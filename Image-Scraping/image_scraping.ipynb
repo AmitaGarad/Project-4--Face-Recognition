{
 "cells": [
  {
   "cell_type": "code",
   "execution_count": 15,
   "id": "122103b0-ed00-4c17-8bf5-c4662e0943b9",
   "metadata": {},
   "outputs": [],
   "source": [
    "from google_images_search import GoogleImagesSearch\n",
    "from config import API_KEY, CX_KEY\n",
    "import os"
   ]
  },
  {
   "cell_type": "code",
   "execution_count": 16,
   "id": "82ff3587-4194-4302-88bb-3de72f6aeeb9",
   "metadata": {},
   "outputs": [],
   "source": [
    "# Configure API credentials\n",
    "gis = GoogleImagesSearch(API_KEY, CX_KEY)"
   ]
  },
  {
   "cell_type": "code",
   "execution_count": 17,
   "id": "cb68d92d-5cda-4daf-a253-908dd4ce9a2a",
   "metadata": {},
   "outputs": [],
   "source": [
    "# Define search query\n",
    "search_params = {\n",
    "    'q': 'Mary-Kate Olsen',  # Search query\n",
    "    'num': 300,          # Number of images to fetch\n",
    "    'safe': 'high',      # Safe search filter\n",
    "}"
   ]
  },
  {
   "cell_type": "code",
   "execution_count": 20,
   "id": "bbc07476-4303-49e6-922a-f360497a234a",
   "metadata": {},
   "outputs": [],
   "source": [
    "# Directory to save images\n",
    "save_dir = 'MKO_images3'\n",
    "os.makedirs(save_dir, exist_ok=True)"
   ]
  },
  {
   "cell_type": "code",
   "execution_count": 21,
   "id": "8dd0ec88-3c51-44ec-9cd2-9a148a879b20",
   "metadata": {},
   "outputs": [
    {
     "name": "stdout",
     "output_type": "stream",
     "text": [
      "193\n"
     ]
    }
   ],
   "source": [
    "gis.results()\n",
    "print(len(gis.results()))"
   ]
  },
  {
   "cell_type": "code",
   "execution_count": 22,
   "id": "e4ffcf76-e3ab-4b7e-b32f-363c36f0ee36",
   "metadata": {},
   "outputs": [],
   "source": [
    "# Download images\n",
    "for i, image in enumerate(gis.results()):\n",
    "    image.download(os.path.join(save_dir))"
   ]
  },
  {
   "cell_type": "code",
   "execution_count": null,
   "id": "98f34292-cccf-4744-8d8e-cc82d829a765",
   "metadata": {},
   "outputs": [],
   "source": []
  },
  {
   "cell_type": "code",
   "execution_count": null,
   "id": "aae26655-982b-40b4-b2bb-de07e288353a",
   "metadata": {},
   "outputs": [],
   "source": []
  },
  {
   "cell_type": "code",
   "execution_count": null,
   "id": "c29d5855-f021-4fdb-bfd7-998f9448d345",
   "metadata": {},
   "outputs": [],
   "source": []
  },
  {
   "cell_type": "code",
   "execution_count": null,
   "id": "c7122080-4b2d-48bf-a402-5440631517f5",
   "metadata": {},
   "outputs": [],
   "source": []
  },
  {
   "cell_type": "code",
   "execution_count": null,
   "id": "6543e382-e2a5-4391-9740-185a180a759a",
   "metadata": {},
   "outputs": [],
   "source": []
  },
  {
   "cell_type": "code",
   "execution_count": null,
   "id": "b3025b01-d47b-4588-afea-43e21c00c52d",
   "metadata": {},
   "outputs": [],
   "source": []
  }
 ],
 "metadata": {
  "kernelspec": {
   "display_name": "Python 3 (ipykernel)",
   "language": "python",
   "name": "python3"
  },
  "language_info": {
   "codemirror_mode": {
    "name": "ipython",
    "version": 3
   },
   "file_extension": ".py",
   "mimetype": "text/x-python",
   "name": "python",
   "nbconvert_exporter": "python",
   "pygments_lexer": "ipython3",
   "version": "3.11.5"
  }
 },
 "nbformat": 4,
 "nbformat_minor": 5
}
