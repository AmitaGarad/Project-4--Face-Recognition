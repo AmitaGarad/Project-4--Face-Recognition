{
 "cells": [
  {
   "cell_type": "code",
   "execution_count": 1,
   "metadata": {},
   "outputs": [
    {
     "name": "stdout",
     "output_type": "stream",
     "text": [
      "Requirement already satisfied: keras-vggface in c:\\users\\umesh\\amita-databc\\envs\\dev\\lib\\site-packages (0.6)\n",
      "Requirement already satisfied: numpy>=1.9.1 in c:\\users\\umesh\\amita-databc\\envs\\dev\\lib\\site-packages (from keras-vggface) (1.24.3)\n",
      "Requirement already satisfied: scipy>=0.14 in c:\\users\\umesh\\amita-databc\\envs\\dev\\lib\\site-packages (from keras-vggface) (1.11.1)\n",
      "Requirement already satisfied: h5py in c:\\users\\umesh\\amita-databc\\envs\\dev\\lib\\site-packages (from keras-vggface) (3.10.0)\n",
      "Requirement already satisfied: pillow in c:\\users\\umesh\\amita-databc\\envs\\dev\\lib\\site-packages (from keras-vggface) (9.4.0)\n",
      "Requirement already satisfied: keras in c:\\users\\umesh\\amita-databc\\envs\\dev\\lib\\site-packages (from keras-vggface) (3.1.1)\n",
      "Requirement already satisfied: six>=1.9.0 in c:\\users\\umesh\\amita-databc\\envs\\dev\\lib\\site-packages (from keras-vggface) (1.16.0)\n",
      "Requirement already satisfied: pyyaml in c:\\users\\umesh\\amita-databc\\envs\\dev\\lib\\site-packages (from keras-vggface) (6.0)\n",
      "Requirement already satisfied: absl-py in c:\\users\\umesh\\amita-databc\\envs\\dev\\lib\\site-packages (from keras->keras-vggface) (2.1.0)\n",
      "Requirement already satisfied: rich in c:\\users\\umesh\\amita-databc\\envs\\dev\\lib\\site-packages (from keras->keras-vggface) (13.7.1)\n",
      "Requirement already satisfied: namex in c:\\users\\umesh\\amita-databc\\envs\\dev\\lib\\site-packages (from keras->keras-vggface) (0.0.7)\n",
      "Requirement already satisfied: optree in c:\\users\\umesh\\amita-databc\\envs\\dev\\lib\\site-packages (from keras->keras-vggface) (0.11.0)\n",
      "Requirement already satisfied: ml-dtypes in c:\\users\\umesh\\amita-databc\\envs\\dev\\lib\\site-packages (from keras->keras-vggface) (0.3.2)\n",
      "Requirement already satisfied: typing-extensions>=4.0.0 in c:\\users\\umesh\\amita-databc\\envs\\dev\\lib\\site-packages (from optree->keras->keras-vggface) (4.10.0)\n",
      "Requirement already satisfied: markdown-it-py>=2.2.0 in c:\\users\\umesh\\amita-databc\\envs\\dev\\lib\\site-packages (from rich->keras->keras-vggface) (2.2.0)\n",
      "Requirement already satisfied: pygments<3.0.0,>=2.13.0 in c:\\users\\umesh\\amita-databc\\envs\\dev\\lib\\site-packages (from rich->keras->keras-vggface) (2.15.1)\n",
      "Requirement already satisfied: mdurl~=0.1 in c:\\users\\umesh\\amita-databc\\envs\\dev\\lib\\site-packages (from markdown-it-py>=2.2.0->rich->keras->keras-vggface) (0.1.0)\n"
     ]
    },
    {
     "name": "stderr",
     "output_type": "stream",
     "text": [
      "WARNING: Ignoring invalid distribution -pencv-python (c:\\users\\umesh\\amita-databc\\envs\\dev\\lib\\site-packages)\n",
      "WARNING: Ignoring invalid distribution -pencv-python (c:\\users\\umesh\\amita-databc\\envs\\dev\\lib\\site-packages)\n",
      "DEPRECATION: google-images-search 1.4.6 has a non-standard dependency specifier click>=7.0<=8.1.*. pip 23.3 will enforce this behaviour change. A possible replacement is to upgrade to a newer version of google-images-search or contact the author to suggest that they release a version with a conforming dependency specifiers. Discussion can be found at https://github.com/pypa/pip/issues/12063\n"
     ]
    }
   ],
   "source": [
    "# Install the keras-vggface library\n",
    "!pip install keras-vggface"
   ]
  },
  {
   "cell_type": "code",
   "execution_count": 5,
   "metadata": {},
   "outputs": [
    {
     "name": "stderr",
     "output_type": "stream",
     "text": [
      "WARNING: Ignoring invalid distribution -pencv-python (c:\\users\\umesh\\amita-databc\\envs\\dev\\lib\\site-packages)\n",
      "WARNING: Ignoring invalid distribution -pencv-python (c:\\users\\umesh\\amita-databc\\envs\\dev\\lib\\site-packages)\n",
      "DEPRECATION: google-images-search 1.4.6 has a non-standard dependency specifier click>=7.0<=8.1.*. pip 23.3 will enforce this behaviour change. A possible replacement is to upgrade to a newer version of google-images-search or contact the author to suggest that they release a version with a conforming dependency specifiers. Discussion can be found at https://github.com/pypa/pip/issues/12063\n"
     ]
    },
    {
     "name": "stdout",
     "output_type": "stream",
     "text": [
      "Collecting keras-applications\n",
      "  Obtaining dependency information for keras-applications from https://files.pythonhosted.org/packages/71/e3/19762fdfc62877ae9102edf6342d71b28fbfd9dea3d2f96a882ce099b03f/Keras_Applications-1.0.8-py3-none-any.whl.metadata\n",
      "  Downloading Keras_Applications-1.0.8-py3-none-any.whl.metadata (1.7 kB)\n",
      "Requirement already satisfied: numpy>=1.9.1 in c:\\users\\umesh\\amita-databc\\envs\\dev\\lib\\site-packages (from keras-applications) (1.24.3)\n",
      "Requirement already satisfied: h5py in c:\\users\\umesh\\amita-databc\\envs\\dev\\lib\\site-packages (from keras-applications) (3.10.0)\n",
      "Downloading Keras_Applications-1.0.8-py3-none-any.whl (50 kB)\n",
      "   ---------------------------------------- 0.0/50.7 kB ? eta -:--:--\n",
      "   -------- ------------------------------- 10.2/50.7 kB ? eta -:--:--\n",
      "   ------------------------ --------------- 30.7/50.7 kB 330.3 kB/s eta 0:00:01\n",
      "   -------------------------------- ------- 41.0/50.7 kB 393.8 kB/s eta 0:00:01\n",
      "   ---------------------------------------- 50.7/50.7 kB 323.7 kB/s eta 0:00:00\n",
      "Installing collected packages: keras-applications\n",
      "Successfully installed keras-applications-1.0.8\n"
     ]
    }
   ],
   "source": [
    "!pip install keras-applications"
   ]
  },
  {
   "cell_type": "code",
   "execution_count": 8,
   "metadata": {},
   "outputs": [
    {
     "name": "stdout",
     "output_type": "stream",
     "text": [
      "Requirement already satisfied: tensorflow in c:\\users\\umesh\\amita-databc\\envs\\dev\\lib\\site-packages (2.16.1)\n",
      "Requirement already satisfied: tensorflow-intel==2.16.1 in c:\\users\\umesh\\amita-databc\\envs\\dev\\lib\\site-packages (from tensorflow) (2.16.1)\n",
      "Requirement already satisfied: absl-py>=1.0.0 in c:\\users\\umesh\\amita-databc\\envs\\dev\\lib\\site-packages (from tensorflow-intel==2.16.1->tensorflow) (2.1.0)\n",
      "Requirement already satisfied: astunparse>=1.6.0 in c:\\users\\umesh\\amita-databc\\envs\\dev\\lib\\site-packages (from tensorflow-intel==2.16.1->tensorflow) (1.6.3)\n",
      "Requirement already satisfied: flatbuffers>=23.5.26 in c:\\users\\umesh\\amita-databc\\envs\\dev\\lib\\site-packages (from tensorflow-intel==2.16.1->tensorflow) (24.3.7)\n",
      "Requirement already satisfied: gast!=0.5.0,!=0.5.1,!=0.5.2,>=0.2.1 in c:\\users\\umesh\\amita-databc\\envs\\dev\\lib\\site-packages (from tensorflow-intel==2.16.1->tensorflow) (0.5.4)\n",
      "Requirement already satisfied: google-pasta>=0.1.1 in c:\\users\\umesh\\amita-databc\\envs\\dev\\lib\\site-packages (from tensorflow-intel==2.16.1->tensorflow) (0.2.0)\n",
      "Requirement already satisfied: h5py>=3.10.0 in c:\\users\\umesh\\amita-databc\\envs\\dev\\lib\\site-packages (from tensorflow-intel==2.16.1->tensorflow) (3.10.0)\n",
      "Requirement already satisfied: libclang>=13.0.0 in c:\\users\\umesh\\amita-databc\\envs\\dev\\lib\\site-packages (from tensorflow-intel==2.16.1->tensorflow) (18.1.1)\n",
      "Requirement already satisfied: ml-dtypes~=0.3.1 in c:\\users\\umesh\\amita-databc\\envs\\dev\\lib\\site-packages (from tensorflow-intel==2.16.1->tensorflow) (0.3.2)\n",
      "Requirement already satisfied: opt-einsum>=2.3.2 in c:\\users\\umesh\\amita-databc\\envs\\dev\\lib\\site-packages (from tensorflow-intel==2.16.1->tensorflow) (3.3.0)\n",
      "Requirement already satisfied: packaging in c:\\users\\umesh\\amita-databc\\envs\\dev\\lib\\site-packages (from tensorflow-intel==2.16.1->tensorflow) (23.1)\n",
      "Requirement already satisfied: protobuf!=4.21.0,!=4.21.1,!=4.21.2,!=4.21.3,!=4.21.4,!=4.21.5,<5.0.0dev,>=3.20.3 in c:\\users\\umesh\\amita-databc\\envs\\dev\\lib\\site-packages (from tensorflow-intel==2.16.1->tensorflow) (4.25.3)\n",
      "Requirement already satisfied: requests<3,>=2.21.0 in c:\\users\\umesh\\amita-databc\\envs\\dev\\lib\\site-packages (from tensorflow-intel==2.16.1->tensorflow) (2.31.0)\n",
      "Requirement already satisfied: setuptools in c:\\users\\umesh\\amita-databc\\envs\\dev\\lib\\site-packages (from tensorflow-intel==2.16.1->tensorflow) (68.0.0)\n",
      "Requirement already satisfied: six>=1.12.0 in c:\\users\\umesh\\amita-databc\\envs\\dev\\lib\\site-packages (from tensorflow-intel==2.16.1->tensorflow) (1.16.0)\n",
      "Requirement already satisfied: termcolor>=1.1.0 in c:\\users\\umesh\\amita-databc\\envs\\dev\\lib\\site-packages (from tensorflow-intel==2.16.1->tensorflow) (1.1.0)\n",
      "Requirement already satisfied: typing-extensions>=3.6.6 in c:\\users\\umesh\\amita-databc\\envs\\dev\\lib\\site-packages (from tensorflow-intel==2.16.1->tensorflow) (4.10.0)\n",
      "Requirement already satisfied: wrapt>=1.11.0 in c:\\users\\umesh\\amita-databc\\envs\\dev\\lib\\site-packages (from tensorflow-intel==2.16.1->tensorflow) (1.14.1)\n",
      "Requirement already satisfied: grpcio<2.0,>=1.24.3 in c:\\users\\umesh\\amita-databc\\envs\\dev\\lib\\site-packages (from tensorflow-intel==2.16.1->tensorflow) (1.62.1)\n",
      "Requirement already satisfied: tensorboard<2.17,>=2.16 in c:\\users\\umesh\\amita-databc\\envs\\dev\\lib\\site-packages (from tensorflow-intel==2.16.1->tensorflow) (2.16.2)\n",
      "Requirement already satisfied: keras>=3.0.0 in c:\\users\\umesh\\amita-databc\\envs\\dev\\lib\\site-packages (from tensorflow-intel==2.16.1->tensorflow) (3.1.1)\n",
      "Requirement already satisfied: tensorflow-io-gcs-filesystem>=0.23.1 in c:\\users\\umesh\\amita-databc\\envs\\dev\\lib\\site-packages (from tensorflow-intel==2.16.1->tensorflow) (0.31.0)\n",
      "Requirement already satisfied: numpy<2.0.0,>=1.23.5 in c:\\users\\umesh\\amita-databc\\envs\\dev\\lib\\site-packages (from tensorflow-intel==2.16.1->tensorflow) (1.24.3)\n",
      "Requirement already satisfied: wheel<1.0,>=0.23.0 in c:\\users\\umesh\\amita-databc\\envs\\dev\\lib\\site-packages (from astunparse>=1.6.0->tensorflow-intel==2.16.1->tensorflow) (0.38.4)\n",
      "Requirement already satisfied: rich in c:\\users\\umesh\\amita-databc\\envs\\dev\\lib\\site-packages (from keras>=3.0.0->tensorflow-intel==2.16.1->tensorflow) (13.7.1)\n",
      "Requirement already satisfied: namex in c:\\users\\umesh\\amita-databc\\envs\\dev\\lib\\site-packages (from keras>=3.0.0->tensorflow-intel==2.16.1->tensorflow) (0.0.7)\n",
      "Requirement already satisfied: optree in c:\\users\\umesh\\amita-databc\\envs\\dev\\lib\\site-packages (from keras>=3.0.0->tensorflow-intel==2.16.1->tensorflow) (0.11.0)\n",
      "Requirement already satisfied: charset-normalizer<4,>=2 in c:\\users\\umesh\\amita-databc\\envs\\dev\\lib\\site-packages (from requests<3,>=2.21.0->tensorflow-intel==2.16.1->tensorflow) (2.0.4)\n",
      "Requirement already satisfied: idna<4,>=2.5 in c:\\users\\umesh\\amita-databc\\envs\\dev\\lib\\site-packages (from requests<3,>=2.21.0->tensorflow-intel==2.16.1->tensorflow) (3.4)\n",
      "Requirement already satisfied: urllib3<3,>=1.21.1 in c:\\users\\umesh\\amita-databc\\envs\\dev\\lib\\site-packages (from requests<3,>=2.21.0->tensorflow-intel==2.16.1->tensorflow) (1.26.16)\n",
      "Requirement already satisfied: certifi>=2017.4.17 in c:\\users\\umesh\\amita-databc\\envs\\dev\\lib\\site-packages (from requests<3,>=2.21.0->tensorflow-intel==2.16.1->tensorflow) (2023.11.17)\n",
      "Requirement already satisfied: markdown>=2.6.8 in c:\\users\\umesh\\amita-databc\\envs\\dev\\lib\\site-packages (from tensorboard<2.17,>=2.16->tensorflow-intel==2.16.1->tensorflow) (3.4.1)\n",
      "Requirement already satisfied: tensorboard-data-server<0.8.0,>=0.7.0 in c:\\users\\umesh\\amita-databc\\envs\\dev\\lib\\site-packages (from tensorboard<2.17,>=2.16->tensorflow-intel==2.16.1->tensorflow) (0.7.2)\n",
      "Requirement already satisfied: werkzeug>=1.0.1 in c:\\users\\umesh\\amita-databc\\envs\\dev\\lib\\site-packages (from tensorboard<2.17,>=2.16->tensorflow-intel==2.16.1->tensorflow) (2.2.3)\n",
      "Requirement already satisfied: MarkupSafe>=2.1.1 in c:\\users\\umesh\\amita-databc\\envs\\dev\\lib\\site-packages (from werkzeug>=1.0.1->tensorboard<2.17,>=2.16->tensorflow-intel==2.16.1->tensorflow) (2.1.1)\n",
      "Requirement already satisfied: markdown-it-py>=2.2.0 in c:\\users\\umesh\\amita-databc\\envs\\dev\\lib\\site-packages (from rich->keras>=3.0.0->tensorflow-intel==2.16.1->tensorflow) (2.2.0)\n",
      "Requirement already satisfied: pygments<3.0.0,>=2.13.0 in c:\\users\\umesh\\amita-databc\\envs\\dev\\lib\\site-packages (from rich->keras>=3.0.0->tensorflow-intel==2.16.1->tensorflow) (2.15.1)\n",
      "Requirement already satisfied: mdurl~=0.1 in c:\\users\\umesh\\amita-databc\\envs\\dev\\lib\\site-packages (from markdown-it-py>=2.2.0->rich->keras>=3.0.0->tensorflow-intel==2.16.1->tensorflow) (0.1.0)\n"
     ]
    },
    {
     "name": "stderr",
     "output_type": "stream",
     "text": [
      "WARNING: Ignoring invalid distribution -pencv-python (c:\\users\\umesh\\amita-databc\\envs\\dev\\lib\\site-packages)\n",
      "WARNING: Ignoring invalid distribution -pencv-python (c:\\users\\umesh\\amita-databc\\envs\\dev\\lib\\site-packages)\n",
      "DEPRECATION: google-images-search 1.4.6 has a non-standard dependency specifier click>=7.0<=8.1.*. pip 23.3 will enforce this behaviour change. A possible replacement is to upgrade to a newer version of google-images-search or contact the author to suggest that they release a version with a conforming dependency specifiers. Discussion can be found at https://github.com/pypa/pip/issues/12063\n"
     ]
    },
    {
     "name": "stdout",
     "output_type": "stream",
     "text": [
      "Requirement already satisfied: keras in c:\\users\\umesh\\amita-databc\\envs\\dev\\lib\\site-packages (3.1.1)\n",
      "Requirement already satisfied: absl-py in c:\\users\\umesh\\amita-databc\\envs\\dev\\lib\\site-packages (from keras) (2.1.0)\n",
      "Requirement already satisfied: numpy in c:\\users\\umesh\\amita-databc\\envs\\dev\\lib\\site-packages (from keras) (1.24.3)\n",
      "Requirement already satisfied: rich in c:\\users\\umesh\\amita-databc\\envs\\dev\\lib\\site-packages (from keras) (13.7.1)\n",
      "Requirement already satisfied: namex in c:\\users\\umesh\\amita-databc\\envs\\dev\\lib\\site-packages (from keras) (0.0.7)\n",
      "Requirement already satisfied: h5py in c:\\users\\umesh\\amita-databc\\envs\\dev\\lib\\site-packages (from keras) (3.10.0)\n",
      "Requirement already satisfied: optree in c:\\users\\umesh\\amita-databc\\envs\\dev\\lib\\site-packages (from keras) (0.11.0)\n",
      "Requirement already satisfied: ml-dtypes in c:\\users\\umesh\\amita-databc\\envs\\dev\\lib\\site-packages (from keras) (0.3.2)\n",
      "Requirement already satisfied: typing-extensions>=4.0.0 in c:\\users\\umesh\\amita-databc\\envs\\dev\\lib\\site-packages (from optree->keras) (4.10.0)\n",
      "Requirement already satisfied: markdown-it-py>=2.2.0 in c:\\users\\umesh\\amita-databc\\envs\\dev\\lib\\site-packages (from rich->keras) (2.2.0)\n",
      "Requirement already satisfied: pygments<3.0.0,>=2.13.0 in c:\\users\\umesh\\amita-databc\\envs\\dev\\lib\\site-packages (from rich->keras) (2.15.1)\n",
      "Requirement already satisfied: mdurl~=0.1 in c:\\users\\umesh\\amita-databc\\envs\\dev\\lib\\site-packages (from markdown-it-py>=2.2.0->rich->keras) (0.1.0)\n"
     ]
    },
    {
     "name": "stderr",
     "output_type": "stream",
     "text": [
      "WARNING: Ignoring invalid distribution -pencv-python (c:\\users\\umesh\\amita-databc\\envs\\dev\\lib\\site-packages)\n",
      "WARNING: Ignoring invalid distribution -pencv-python (c:\\users\\umesh\\amita-databc\\envs\\dev\\lib\\site-packages)\n",
      "DEPRECATION: google-images-search 1.4.6 has a non-standard dependency specifier click>=7.0<=8.1.*. pip 23.3 will enforce this behaviour change. A possible replacement is to upgrade to a newer version of google-images-search or contact the author to suggest that they release a version with a conforming dependency specifiers. Discussion can be found at https://github.com/pypa/pip/issues/12063\n"
     ]
    }
   ],
   "source": [
    "!pip install --upgrade tensorflow\n",
    "!pip install --upgrade keras"
   ]
  },
  {
   "cell_type": "code",
   "execution_count": 13,
   "metadata": {},
   "outputs": [
    {
     "name": "stdout",
     "output_type": "stream",
     "text": [
      "Requirement already satisfied: tensorflow in c:\\users\\umesh\\amita-databc\\envs\\dev\\lib\\site-packages (2.16.1)\n",
      "Requirement already satisfied: tensorflow-intel==2.16.1 in c:\\users\\umesh\\amita-databc\\envs\\dev\\lib\\site-packages (from tensorflow) (2.16.1)\n",
      "Requirement already satisfied: absl-py>=1.0.0 in c:\\users\\umesh\\amita-databc\\envs\\dev\\lib\\site-packages (from tensorflow-intel==2.16.1->tensorflow) (2.1.0)\n",
      "Requirement already satisfied: astunparse>=1.6.0 in c:\\users\\umesh\\amita-databc\\envs\\dev\\lib\\site-packages (from tensorflow-intel==2.16.1->tensorflow) (1.6.3)\n",
      "Requirement already satisfied: flatbuffers>=23.5.26 in c:\\users\\umesh\\amita-databc\\envs\\dev\\lib\\site-packages (from tensorflow-intel==2.16.1->tensorflow) (24.3.7)\n",
      "Requirement already satisfied: gast!=0.5.0,!=0.5.1,!=0.5.2,>=0.2.1 in c:\\users\\umesh\\amita-databc\\envs\\dev\\lib\\site-packages (from tensorflow-intel==2.16.1->tensorflow) (0.5.4)\n",
      "Requirement already satisfied: google-pasta>=0.1.1 in c:\\users\\umesh\\amita-databc\\envs\\dev\\lib\\site-packages (from tensorflow-intel==2.16.1->tensorflow) (0.2.0)\n",
      "Requirement already satisfied: h5py>=3.10.0 in c:\\users\\umesh\\amita-databc\\envs\\dev\\lib\\site-packages (from tensorflow-intel==2.16.1->tensorflow) (3.10.0)\n",
      "Requirement already satisfied: libclang>=13.0.0 in c:\\users\\umesh\\amita-databc\\envs\\dev\\lib\\site-packages (from tensorflow-intel==2.16.1->tensorflow) (18.1.1)\n",
      "Requirement already satisfied: ml-dtypes~=0.3.1 in c:\\users\\umesh\\amita-databc\\envs\\dev\\lib\\site-packages (from tensorflow-intel==2.16.1->tensorflow) (0.3.2)\n",
      "Requirement already satisfied: opt-einsum>=2.3.2 in c:\\users\\umesh\\amita-databc\\envs\\dev\\lib\\site-packages (from tensorflow-intel==2.16.1->tensorflow) (3.3.0)\n",
      "Requirement already satisfied: packaging in c:\\users\\umesh\\amita-databc\\envs\\dev\\lib\\site-packages (from tensorflow-intel==2.16.1->tensorflow) (23.1)\n",
      "Requirement already satisfied: protobuf!=4.21.0,!=4.21.1,!=4.21.2,!=4.21.3,!=4.21.4,!=4.21.5,<5.0.0dev,>=3.20.3 in c:\\users\\umesh\\amita-databc\\envs\\dev\\lib\\site-packages (from tensorflow-intel==2.16.1->tensorflow) (4.25.3)\n",
      "Requirement already satisfied: requests<3,>=2.21.0 in c:\\users\\umesh\\amita-databc\\envs\\dev\\lib\\site-packages (from tensorflow-intel==2.16.1->tensorflow) (2.31.0)\n",
      "Requirement already satisfied: setuptools in c:\\users\\umesh\\amita-databc\\envs\\dev\\lib\\site-packages (from tensorflow-intel==2.16.1->tensorflow) (68.0.0)\n",
      "Requirement already satisfied: six>=1.12.0 in c:\\users\\umesh\\amita-databc\\envs\\dev\\lib\\site-packages (from tensorflow-intel==2.16.1->tensorflow) (1.16.0)\n",
      "Requirement already satisfied: termcolor>=1.1.0 in c:\\users\\umesh\\amita-databc\\envs\\dev\\lib\\site-packages (from tensorflow-intel==2.16.1->tensorflow) (1.1.0)\n",
      "Requirement already satisfied: typing-extensions>=3.6.6 in c:\\users\\umesh\\amita-databc\\envs\\dev\\lib\\site-packages (from tensorflow-intel==2.16.1->tensorflow) (4.10.0)\n",
      "Requirement already satisfied: wrapt>=1.11.0 in c:\\users\\umesh\\amita-databc\\envs\\dev\\lib\\site-packages (from tensorflow-intel==2.16.1->tensorflow) (1.14.1)\n",
      "Requirement already satisfied: grpcio<2.0,>=1.24.3 in c:\\users\\umesh\\amita-databc\\envs\\dev\\lib\\site-packages (from tensorflow-intel==2.16.1->tensorflow) (1.62.1)\n",
      "Requirement already satisfied: tensorboard<2.17,>=2.16 in c:\\users\\umesh\\amita-databc\\envs\\dev\\lib\\site-packages (from tensorflow-intel==2.16.1->tensorflow) (2.16.2)\n",
      "Requirement already satisfied: keras>=3.0.0 in c:\\users\\umesh\\amita-databc\\envs\\dev\\lib\\site-packages (from tensorflow-intel==2.16.1->tensorflow) (3.1.1)\n",
      "Requirement already satisfied: tensorflow-io-gcs-filesystem>=0.23.1 in c:\\users\\umesh\\amita-databc\\envs\\dev\\lib\\site-packages (from tensorflow-intel==2.16.1->tensorflow) (0.31.0)\n",
      "Requirement already satisfied: numpy<2.0.0,>=1.23.5 in c:\\users\\umesh\\amita-databc\\envs\\dev\\lib\\site-packages (from tensorflow-intel==2.16.1->tensorflow) (1.24.3)\n",
      "Requirement already satisfied: wheel<1.0,>=0.23.0 in c:\\users\\umesh\\amita-databc\\envs\\dev\\lib\\site-packages (from astunparse>=1.6.0->tensorflow-intel==2.16.1->tensorflow) (0.38.4)\n",
      "Requirement already satisfied: rich in c:\\users\\umesh\\amita-databc\\envs\\dev\\lib\\site-packages (from keras>=3.0.0->tensorflow-intel==2.16.1->tensorflow) (13.7.1)\n",
      "Requirement already satisfied: namex in c:\\users\\umesh\\amita-databc\\envs\\dev\\lib\\site-packages (from keras>=3.0.0->tensorflow-intel==2.16.1->tensorflow) (0.0.7)\n",
      "Requirement already satisfied: optree in c:\\users\\umesh\\amita-databc\\envs\\dev\\lib\\site-packages (from keras>=3.0.0->tensorflow-intel==2.16.1->tensorflow) (0.11.0)\n",
      "Requirement already satisfied: charset-normalizer<4,>=2 in c:\\users\\umesh\\amita-databc\\envs\\dev\\lib\\site-packages (from requests<3,>=2.21.0->tensorflow-intel==2.16.1->tensorflow) (2.0.4)\n",
      "Requirement already satisfied: idna<4,>=2.5 in c:\\users\\umesh\\amita-databc\\envs\\dev\\lib\\site-packages (from requests<3,>=2.21.0->tensorflow-intel==2.16.1->tensorflow) (3.4)\n",
      "Requirement already satisfied: urllib3<3,>=1.21.1 in c:\\users\\umesh\\amita-databc\\envs\\dev\\lib\\site-packages (from requests<3,>=2.21.0->tensorflow-intel==2.16.1->tensorflow) (1.26.16)\n",
      "Requirement already satisfied: certifi>=2017.4.17 in c:\\users\\umesh\\amita-databc\\envs\\dev\\lib\\site-packages (from requests<3,>=2.21.0->tensorflow-intel==2.16.1->tensorflow) (2023.11.17)\n",
      "Requirement already satisfied: markdown>=2.6.8 in c:\\users\\umesh\\amita-databc\\envs\\dev\\lib\\site-packages (from tensorboard<2.17,>=2.16->tensorflow-intel==2.16.1->tensorflow) (3.4.1)\n",
      "Requirement already satisfied: tensorboard-data-server<0.8.0,>=0.7.0 in c:\\users\\umesh\\amita-databc\\envs\\dev\\lib\\site-packages (from tensorboard<2.17,>=2.16->tensorflow-intel==2.16.1->tensorflow) (0.7.2)\n",
      "Requirement already satisfied: werkzeug>=1.0.1 in c:\\users\\umesh\\amita-databc\\envs\\dev\\lib\\site-packages (from tensorboard<2.17,>=2.16->tensorflow-intel==2.16.1->tensorflow) (2.2.3)\n",
      "Requirement already satisfied: MarkupSafe>=2.1.1 in c:\\users\\umesh\\amita-databc\\envs\\dev\\lib\\site-packages (from werkzeug>=1.0.1->tensorboard<2.17,>=2.16->tensorflow-intel==2.16.1->tensorflow) (2.1.1)\n",
      "Requirement already satisfied: markdown-it-py>=2.2.0 in c:\\users\\umesh\\amita-databc\\envs\\dev\\lib\\site-packages (from rich->keras>=3.0.0->tensorflow-intel==2.16.1->tensorflow) (2.2.0)\n",
      "Requirement already satisfied: pygments<3.0.0,>=2.13.0 in c:\\users\\umesh\\amita-databc\\envs\\dev\\lib\\site-packages (from rich->keras>=3.0.0->tensorflow-intel==2.16.1->tensorflow) (2.15.1)\n",
      "Requirement already satisfied: mdurl~=0.1 in c:\\users\\umesh\\amita-databc\\envs\\dev\\lib\\site-packages (from markdown-it-py>=2.2.0->rich->keras>=3.0.0->tensorflow-intel==2.16.1->tensorflow) (0.1.0)\n"
     ]
    },
    {
     "name": "stderr",
     "output_type": "stream",
     "text": [
      "WARNING: Ignoring invalid distribution -pencv-python (c:\\users\\umesh\\amita-databc\\envs\\dev\\lib\\site-packages)\n",
      "WARNING: Ignoring invalid distribution -pencv-python (c:\\users\\umesh\\amita-databc\\envs\\dev\\lib\\site-packages)\n",
      "DEPRECATION: google-images-search 1.4.6 has a non-standard dependency specifier click>=7.0<=8.1.*. pip 23.3 will enforce this behaviour change. A possible replacement is to upgrade to a newer version of google-images-search or contact the author to suggest that they release a version with a conforming dependency specifiers. Discussion can be found at https://github.com/pypa/pip/issues/12063\n"
     ]
    },
    {
     "name": "stdout",
     "output_type": "stream",
     "text": [
      "Requirement already satisfied: keras in c:\\users\\umesh\\amita-databc\\envs\\dev\\lib\\site-packages (3.1.1)\n",
      "Requirement already satisfied: absl-py in c:\\users\\umesh\\amita-databc\\envs\\dev\\lib\\site-packages (from keras) (2.1.0)\n",
      "Requirement already satisfied: numpy in c:\\users\\umesh\\amita-databc\\envs\\dev\\lib\\site-packages (from keras) (1.24.3)\n",
      "Requirement already satisfied: rich in c:\\users\\umesh\\amita-databc\\envs\\dev\\lib\\site-packages (from keras) (13.7.1)\n",
      "Requirement already satisfied: namex in c:\\users\\umesh\\amita-databc\\envs\\dev\\lib\\site-packages (from keras) (0.0.7)\n",
      "Requirement already satisfied: h5py in c:\\users\\umesh\\amita-databc\\envs\\dev\\lib\\site-packages (from keras) (3.10.0)\n",
      "Requirement already satisfied: optree in c:\\users\\umesh\\amita-databc\\envs\\dev\\lib\\site-packages (from keras) (0.11.0)\n",
      "Requirement already satisfied: ml-dtypes in c:\\users\\umesh\\amita-databc\\envs\\dev\\lib\\site-packages (from keras) (0.3.2)\n",
      "Requirement already satisfied: typing-extensions>=4.0.0 in c:\\users\\umesh\\amita-databc\\envs\\dev\\lib\\site-packages (from optree->keras) (4.10.0)\n",
      "Requirement already satisfied: markdown-it-py>=2.2.0 in c:\\users\\umesh\\amita-databc\\envs\\dev\\lib\\site-packages (from rich->keras) (2.2.0)\n",
      "Requirement already satisfied: pygments<3.0.0,>=2.13.0 in c:\\users\\umesh\\amita-databc\\envs\\dev\\lib\\site-packages (from rich->keras) (2.15.1)\n",
      "Requirement already satisfied: mdurl~=0.1 in c:\\users\\umesh\\amita-databc\\envs\\dev\\lib\\site-packages (from markdown-it-py>=2.2.0->rich->keras) (0.1.0)\n"
     ]
    },
    {
     "name": "stderr",
     "output_type": "stream",
     "text": [
      "WARNING: Ignoring invalid distribution -pencv-python (c:\\users\\umesh\\amita-databc\\envs\\dev\\lib\\site-packages)\n",
      "WARNING: Ignoring invalid distribution -pencv-python (c:\\users\\umesh\\amita-databc\\envs\\dev\\lib\\site-packages)\n",
      "DEPRECATION: google-images-search 1.4.6 has a non-standard dependency specifier click>=7.0<=8.1.*. pip 23.3 will enforce this behaviour change. A possible replacement is to upgrade to a newer version of google-images-search or contact the author to suggest that they release a version with a conforming dependency specifiers. Discussion can be found at https://github.com/pypa/pip/issues/12063\n"
     ]
    },
    {
     "name": "stdout",
     "output_type": "stream",
     "text": [
      "Collecting keras-facenet\n",
      "  Using cached keras_facenet-0.3.2-py3-none-any.whl\n",
      "Collecting mtcnn (from keras-facenet)\n",
      "  Obtaining dependency information for mtcnn from https://files.pythonhosted.org/packages/09/d1/2a4269e387edb97484157b872fa8a1953b53dcafbe4842a1967f549ac5ea/mtcnn-0.1.1-py3-none-any.whl.metadata\n",
      "  Using cached mtcnn-0.1.1-py3-none-any.whl.metadata (5.8 kB)\n",
      "Requirement already satisfied: keras>=2.0.0 in c:\\users\\umesh\\amita-databc\\envs\\dev\\lib\\site-packages (from mtcnn->keras-facenet) (3.1.1)\n",
      "Collecting opencv-python>=4.1.0 (from mtcnn->keras-facenet)\n",
      "  Obtaining dependency information for opencv-python>=4.1.0 from https://files.pythonhosted.org/packages/c7/ec/9dabb6a9abfdebb3c45b0cc52dec901caafef2b2c7e7d6a839ed86d81e91/opencv_python-4.9.0.80-cp37-abi3-win_amd64.whl.metadata\n",
      "  Using cached opencv_python-4.9.0.80-cp37-abi3-win_amd64.whl.metadata (20 kB)\n",
      "Requirement already satisfied: absl-py in c:\\users\\umesh\\amita-databc\\envs\\dev\\lib\\site-packages (from keras>=2.0.0->mtcnn->keras-facenet) (2.1.0)\n",
      "Requirement already satisfied: numpy in c:\\users\\umesh\\amita-databc\\envs\\dev\\lib\\site-packages (from keras>=2.0.0->mtcnn->keras-facenet) (1.24.3)\n",
      "Requirement already satisfied: rich in c:\\users\\umesh\\amita-databc\\envs\\dev\\lib\\site-packages (from keras>=2.0.0->mtcnn->keras-facenet) (13.7.1)\n",
      "Requirement already satisfied: namex in c:\\users\\umesh\\amita-databc\\envs\\dev\\lib\\site-packages (from keras>=2.0.0->mtcnn->keras-facenet) (0.0.7)\n",
      "Requirement already satisfied: h5py in c:\\users\\umesh\\amita-databc\\envs\\dev\\lib\\site-packages (from keras>=2.0.0->mtcnn->keras-facenet) (3.10.0)\n",
      "Requirement already satisfied: optree in c:\\users\\umesh\\amita-databc\\envs\\dev\\lib\\site-packages (from keras>=2.0.0->mtcnn->keras-facenet) (0.11.0)\n",
      "Requirement already satisfied: ml-dtypes in c:\\users\\umesh\\amita-databc\\envs\\dev\\lib\\site-packages (from keras>=2.0.0->mtcnn->keras-facenet) (0.3.2)\n",
      "Requirement already satisfied: typing-extensions>=4.0.0 in c:\\users\\umesh\\amita-databc\\envs\\dev\\lib\\site-packages (from optree->keras>=2.0.0->mtcnn->keras-facenet) (4.10.0)\n",
      "Requirement already satisfied: markdown-it-py>=2.2.0 in c:\\users\\umesh\\amita-databc\\envs\\dev\\lib\\site-packages (from rich->keras>=2.0.0->mtcnn->keras-facenet) (2.2.0)\n",
      "Requirement already satisfied: pygments<3.0.0,>=2.13.0 in c:\\users\\umesh\\amita-databc\\envs\\dev\\lib\\site-packages (from rich->keras>=2.0.0->mtcnn->keras-facenet) (2.15.1)\n",
      "Requirement already satisfied: mdurl~=0.1 in c:\\users\\umesh\\amita-databc\\envs\\dev\\lib\\site-packages (from markdown-it-py>=2.2.0->rich->keras>=2.0.0->mtcnn->keras-facenet) (0.1.0)\n",
      "Using cached mtcnn-0.1.1-py3-none-any.whl (2.3 MB)\n",
      "Using cached opencv_python-4.9.0.80-cp37-abi3-win_amd64.whl (38.6 MB)\n",
      "Installing collected packages: opencv-python, mtcnn, keras-facenet\n",
      "Successfully installed keras-facenet-0.3.2 mtcnn-0.1.1 opencv-python-4.9.0.80\n"
     ]
    },
    {
     "name": "stderr",
     "output_type": "stream",
     "text": [
      "WARNING: Ignoring invalid distribution -pencv-python (c:\\users\\umesh\\amita-databc\\envs\\dev\\lib\\site-packages)\n",
      "WARNING: Ignoring invalid distribution -pencv-python (c:\\users\\umesh\\amita-databc\\envs\\dev\\lib\\site-packages)\n",
      "DEPRECATION: google-images-search 1.4.6 has a non-standard dependency specifier click>=7.0<=8.1.*. pip 23.3 will enforce this behaviour change. A possible replacement is to upgrade to a newer version of google-images-search or contact the author to suggest that they release a version with a conforming dependency specifiers. Discussion can be found at https://github.com/pypa/pip/issues/12063\n"
     ]
    }
   ],
   "source": [
    "!pip install --upgrade --user tensorflow\n",
    "!pip install --upgrade --user keras\n",
    "!pip install --user keras-facenet\n"
   ]
  },
  {
   "cell_type": "code",
   "execution_count": 21,
   "metadata": {},
   "outputs": [
    {
     "name": "stdout",
     "output_type": "stream",
     "text": [
      "Requirement already satisfied: keras-facenet in c:\\users\\umesh\\appdata\\roaming\\python\\python310\\site-packages (0.3.2)\n",
      "Requirement already satisfied: mtcnn in c:\\users\\umesh\\appdata\\roaming\\python\\python310\\site-packages (from keras-facenet) (0.1.1)\n",
      "Requirement already satisfied: keras>=2.0.0 in c:\\users\\umesh\\amita-databc\\envs\\dev\\lib\\site-packages (from mtcnn->keras-facenet) (3.1.1)\n",
      "Requirement already satisfied: opencv-python>=4.1.0 in c:\\users\\umesh\\appdata\\roaming\\python\\python310\\site-packages (from mtcnn->keras-facenet) (4.9.0.80)\n",
      "Requirement already satisfied: absl-py in c:\\users\\umesh\\amita-databc\\envs\\dev\\lib\\site-packages (from keras>=2.0.0->mtcnn->keras-facenet) (2.1.0)\n",
      "Requirement already satisfied: numpy in c:\\users\\umesh\\amita-databc\\envs\\dev\\lib\\site-packages (from keras>=2.0.0->mtcnn->keras-facenet) (1.24.3)\n",
      "Requirement already satisfied: rich in c:\\users\\umesh\\amita-databc\\envs\\dev\\lib\\site-packages (from keras>=2.0.0->mtcnn->keras-facenet) (13.7.1)\n",
      "Requirement already satisfied: namex in c:\\users\\umesh\\amita-databc\\envs\\dev\\lib\\site-packages (from keras>=2.0.0->mtcnn->keras-facenet) (0.0.7)\n",
      "Requirement already satisfied: h5py in c:\\users\\umesh\\amita-databc\\envs\\dev\\lib\\site-packages (from keras>=2.0.0->mtcnn->keras-facenet) (3.10.0)\n",
      "Requirement already satisfied: optree in c:\\users\\umesh\\amita-databc\\envs\\dev\\lib\\site-packages (from keras>=2.0.0->mtcnn->keras-facenet) (0.11.0)\n",
      "Requirement already satisfied: ml-dtypes in c:\\users\\umesh\\amita-databc\\envs\\dev\\lib\\site-packages (from keras>=2.0.0->mtcnn->keras-facenet) (0.3.2)\n",
      "Requirement already satisfied: typing-extensions>=4.0.0 in c:\\users\\umesh\\amita-databc\\envs\\dev\\lib\\site-packages (from optree->keras>=2.0.0->mtcnn->keras-facenet) (4.10.0)\n",
      "Requirement already satisfied: markdown-it-py>=2.2.0 in c:\\users\\umesh\\amita-databc\\envs\\dev\\lib\\site-packages (from rich->keras>=2.0.0->mtcnn->keras-facenet) (2.2.0)\n",
      "Requirement already satisfied: pygments<3.0.0,>=2.13.0 in c:\\users\\umesh\\amita-databc\\envs\\dev\\lib\\site-packages (from rich->keras>=2.0.0->mtcnn->keras-facenet) (2.15.1)\n",
      "Requirement already satisfied: mdurl~=0.1 in c:\\users\\umesh\\amita-databc\\envs\\dev\\lib\\site-packages (from markdown-it-py>=2.2.0->rich->keras>=2.0.0->mtcnn->keras-facenet) (0.1.0)\n"
     ]
    },
    {
     "name": "stderr",
     "output_type": "stream",
     "text": [
      "WARNING: Ignoring invalid distribution -pencv-python (c:\\users\\umesh\\amita-databc\\envs\\dev\\lib\\site-packages)\n",
      "WARNING: Ignoring invalid distribution -pencv-python (c:\\users\\umesh\\amita-databc\\envs\\dev\\lib\\site-packages)\n",
      "DEPRECATION: google-images-search 1.4.6 has a non-standard dependency specifier click>=7.0<=8.1.*. pip 23.3 will enforce this behaviour change. A possible replacement is to upgrade to a newer version of google-images-search or contact the author to suggest that they release a version with a conforming dependency specifiers. Discussion can be found at https://github.com/pypa/pip/issues/12063\n"
     ]
    }
   ],
   "source": [
    "!pip install keras-facenet\n"
   ]
  },
  {
   "cell_type": "code",
   "execution_count": 20,
   "metadata": {},
   "outputs": [
    {
     "ename": "ModuleNotFoundError",
     "evalue": "No module named 'keras_facenet'",
     "output_type": "error",
     "traceback": [
      "\u001b[1;31m---------------------------------------------------------------------------\u001b[0m",
      "\u001b[1;31mModuleNotFoundError\u001b[0m                       Traceback (most recent call last)",
      "Cell \u001b[1;32mIn[20], line 4\u001b[0m\n\u001b[0;32m      2\u001b[0m \u001b[38;5;28;01mimport\u001b[39;00m \u001b[38;5;21;01mos\u001b[39;00m\n\u001b[0;32m      3\u001b[0m \u001b[38;5;28;01mimport\u001b[39;00m \u001b[38;5;21;01mnumpy\u001b[39;00m \u001b[38;5;28;01mas\u001b[39;00m \u001b[38;5;21;01mnp\u001b[39;00m\n\u001b[1;32m----> 4\u001b[0m \u001b[38;5;28;01mfrom\u001b[39;00m \u001b[38;5;21;01mkeras_facenet\u001b[39;00m \u001b[38;5;28;01mimport\u001b[39;00m FaceNetModel\n\u001b[0;32m      5\u001b[0m \u001b[38;5;28;01mfrom\u001b[39;00m \u001b[38;5;21;01mkeras\u001b[39;00m\u001b[38;5;21;01m.\u001b[39;00m\u001b[38;5;21;01mpreprocessing\u001b[39;00m\u001b[38;5;21;01m.\u001b[39;00m\u001b[38;5;21;01mimage\u001b[39;00m \u001b[38;5;28;01mimport\u001b[39;00m ImageDataGenerator\n\u001b[0;32m      6\u001b[0m \u001b[38;5;28;01mfrom\u001b[39;00m \u001b[38;5;21;01mtensorflow\u001b[39;00m\u001b[38;5;21;01m.\u001b[39;00m\u001b[38;5;21;01mkeras\u001b[39;00m\u001b[38;5;21;01m.\u001b[39;00m\u001b[38;5;21;01mpreprocessing\u001b[39;00m\u001b[38;5;21;01m.\u001b[39;00m\u001b[38;5;21;01mimage\u001b[39;00m \u001b[38;5;28;01mimport\u001b[39;00m ImageDataGenerator\n",
      "\u001b[1;31mModuleNotFoundError\u001b[0m: No module named 'keras_facenet'"
     ]
    }
   ],
   "source": [
    "# Import necessary libraries\n",
    "import os\n",
    "import numpy as np\n",
    "from keras_facenet import FaceNetModel\n",
    "from keras.preprocessing.image import ImageDataGenerator\n",
    "from tensorflow.keras.preprocessing.image import ImageDataGenerator\n",
    "from tensorflow.keras.models import Model\n",
    "from tensorflow.keras.layers import Dense, Dropout, Flatten\n",
    "from tensorflow.keras.optimizers import Adam"
   ]
  },
  {
   "cell_type": "code",
   "execution_count": null,
   "metadata": {},
   "outputs": [],
   "source": [
    "## Set up the dataset\n",
    "# Define the dataset paths\n",
    "dataset_dir = './dataset/cropped/'\n",
    "train_dir = os.path.join(dataset_dir)\n",
    "\n"
   ]
  },
  {
   "cell_type": "code",
   "execution_count": null,
   "metadata": {},
   "outputs": [],
   "source": [
    "# Create the ImageDataGenerator for data augmentation\n",
    "train_datagen = ImageDataGenerator(\n",
    "    rescale=1./255,\n",
    "    rotation_range=20,\n",
    "    width_shift_range=0.2,\n",
    "    height_shift_range=0.2,\n",
    "    horizontal_flip=True,\n",
    "    vertical_flip=True,\n",
    "    shear_range=0.2,\n",
    "    zoom_range=0.2\n",
    ")\n",
    "\n"
   ]
  },
  {
   "cell_type": "code",
   "execution_count": null,
   "metadata": {},
   "outputs": [],
   "source": [
    "# Load the training data\n",
    "train_generator = train_datagen.flow_from_directory(\n",
    "    train_dir,\n",
    "    target_size=(224, 224),\n",
    "    batch_size=32,\n",
    "    class_mode='categorical'\n",
    ")\n",
    "\n"
   ]
  },
  {
   "cell_type": "code",
   "execution_count": null,
   "metadata": {},
   "outputs": [],
   "source": [
    "## Build the model\n",
    "# Load the VGGFace2 model\n",
    "base_model = VGGFace2(weights='vggface2', include_top=False, input_shape=(224, 224, 3))\n",
    "\n"
   ]
  },
  {
   "cell_type": "code",
   "execution_count": null,
   "metadata": {},
   "outputs": [],
   "source": [
    "# Freeze the base model layers\n",
    "for layer in base_model.layers:\n",
    "    layer.trainable = False\n",
    "\n"
   ]
  },
  {
   "cell_type": "code",
   "execution_count": null,
   "metadata": {},
   "outputs": [],
   "source": [
    "# Add the classification layers\n",
    "x = base_model.output\n",
    "x = Flatten()(x)\n",
    "x = Dense(512, activation='relu')(x)\n",
    "x = Dropout(0.5)(x)\n",
    "output = Dense(train_generator.num_classes, activation='softmax')(x)\n",
    "\n",
    "model = Model(inputs=base_model.input, outputs=output)\n",
    "\n"
   ]
  },
  {
   "cell_type": "code",
   "execution_count": null,
   "metadata": {},
   "outputs": [],
   "source": [
    "# Compile the model\n",
    "model.compile(optimizer=Adam(lr=0.0001), loss='categorical_crossentropy', metrics=['accuracy'])\n",
    "\n"
   ]
  },
  {
   "cell_type": "code",
   "execution_count": null,
   "metadata": {},
   "outputs": [],
   "source": [
    "## Train the model\n",
    "epochs = 50\n",
    "model.fit(\n",
    "    train_generator,\n",
    "    steps_per_epoch=len(train_generator),\n",
    "    epochs=epochs,\n",
    "    verbose=1\n",
    ")\n",
    "\n"
   ]
  },
  {
   "cell_type": "code",
   "execution_count": null,
   "metadata": {},
   "outputs": [],
   "source": [
    "## Evaluate the model\n",
    "loss, accuracy = model.evaluate(train_generator)\n",
    "print(f'Training Loss: {loss:.4f}')\n",
    "print(f'Training Accuracy: {accuracy:.4f}')"
   ]
  }
 ],
 "metadata": {
  "kernelspec": {
   "display_name": "Python 3 (ipykernel)",
   "language": "python",
   "name": "python3"
  },
  "language_info": {
   "codemirror_mode": {
    "name": "ipython",
    "version": 3
   },
   "file_extension": ".py",
   "mimetype": "text/x-python",
   "name": "python",
   "nbconvert_exporter": "python",
   "pygments_lexer": "ipython3",
   "version": "3.10.13"
  }
 },
 "nbformat": 4,
 "nbformat_minor": 2
}
