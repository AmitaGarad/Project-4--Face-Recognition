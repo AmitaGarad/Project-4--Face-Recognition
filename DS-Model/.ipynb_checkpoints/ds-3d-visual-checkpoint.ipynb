{
 "cells": [
  {
   "cell_type": "code",
   "execution_count": null,
   "metadata": {},
   "outputs": [],
   "source": [
    "# Load the real image\n",
    "real_image_path = 'C:/Users/umesh/Documents/My-repo/Project-4-Face-Recognition/DS-Model/tom_cruise/maria.png'\n",
    "real_image = cv2.imread(real_image_path)\n",
    "\n",
    "# Load the test image\n",
    "test_image_path = 'C:/Users/umesh/Documents/My-repo/Project-4-Face-Recognition/DS-Model/tom_cruise/serena.jpg'\n",
    "test_image = cv2.imread(test_image_path)"
   ]
  },
  {
   "cell_type": "code",
   "execution_count": null,
   "metadata": {},
   "outputs": [],
   "source": [
    "import numpy as np\n",
    "\n",
    "def predict_class(image):\n",
    "    # Preprocess the image\n",
    "    scalled_raw_img = cv2.resize(image, (32, 32))\n",
    "    img_har = w2d(image, 'db1', 5)\n",
    "    scalled_img_har = cv2.resize(img_har, (32, 32))\n",
    "    combined_img = np.vstack((scalled_raw_img.reshape(32 * 32 * 3, 1), scalled_img_har.reshape(32 * 32, 1)))\n",
    "    X = np.array([combined_img]).reshape(len([combined_img]), 4096).astype(float)\n",
    "\n",
    "    # Predict the class\n",
    "    predicted_class = model.predict(X)[0]\n",
    "    return predicted_class"
   ]
  }
 ],
 "metadata": {
  "kernelspec": {
   "display_name": "Python 3 (ipykernel)",
   "language": "python",
   "name": "python3"
  },
  "language_info": {
   "codemirror_mode": {
    "name": "ipython",
    "version": 3
   },
   "file_extension": ".py",
   "mimetype": "text/x-python",
   "name": "python",
   "nbconvert_exporter": "python",
   "pygments_lexer": "ipython3",
   "version": "3.10.13"
  }
 },
 "nbformat": 4,
 "nbformat_minor": 2
}
